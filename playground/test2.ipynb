{
 "cells": [
  {
   "cell_type": "code",
   "execution_count": 6,
   "metadata": {},
   "outputs": [],
   "source": [
    "import math\n",
    "import numpy as np\n",
    "import pandas as pd\n",
    "import matplotlib.pyplot as plt\n",
    "\n",
    "from sklearn.model_selection import train_test_split\n",
    "\n",
    "import tensorflow as tf\n",
    "from tensorflow import keras"
   ]
  },
  {
   "cell_type": "code",
   "execution_count": 2,
   "metadata": {},
   "outputs": [],
   "source": [
    "df = pd.read_csv('data/spam_ham_dataset.csv')\n",
    "df.drop(['Unnamed: 0'], axis=1, inplace=True)"
   ]
  },
  {
   "cell_type": "code",
   "execution_count": 3,
   "metadata": {},
   "outputs": [],
   "source": [
    "dset_train,dset_test,gt_train,gt_test = train_test_split(df['text'].values,df['label_num'].values,test_size=0.2,random_state=42)    "
   ]
  },
  {
   "cell_type": "code",
   "execution_count": 4,
   "metadata": {},
   "outputs": [],
   "source": [
    "def convert_data(strData):\n",
    "    x_nums = np.zeros((strData.shape[0], 256,256,256))\n",
    "    for i in range(strData.shape[0]):\n",
    "        row_idx = 0\n",
    "        for j in range(len(strData[i])):\n",
    "            x_nums[i][row_idx][j%256][ord(strData[i][j])] = 1\n",
    "            if j%256 == 255:\n",
    "                row_idx += 1    \n",
    "    return x_nums"
   ]
  },
  {
   "cell_type": "code",
   "execution_count": 5,
   "metadata": {},
   "outputs": [],
   "source": [
    "x_train = convert_data(dset_train)\n",
    "x_test = convert_data(dset_test)"
   ]
  },
  {
   "cell_type": "code",
   "execution_count": null,
   "metadata": {},
   "outputs": [],
   "source": []
  },
  {
   "cell_type": "code",
   "execution_count": 15,
   "metadata": {},
   "outputs": [],
   "source": [
    "def create_model():\n",
    "    inputLayer = keras.layers.Input(shape=(256,256,256))\n",
    "    \n",
    "    convLayer = keras.layers.Conv2D(32, (3,3), strides = 2,activation='relu',padding='same')(inputLayer)\n",
    "    convLayer = keras.layers.Conv2D(32, (3,3), strides = 1,activation='relu',padding='same')(convLayer)\n",
    "    convLayer = keras.layers.BatchNormalization()(convLayer)\n",
    "    # 128,128,32\n",
    "\n",
    "    convLayer = keras.layers.Conv2D(64, (3,3), strides = 2,activation='relu',padding='same')(convLayer)\n",
    "    convLayer = keras.layers.Conv2D(64, (3,3), strides = 1,activation='relu',padding='same')(convLayer)\n",
    "    convLayer = keras.layers.BatchNormalization()(convLayer)\n",
    "    # 64,64,64\n",
    "\n",
    "    convLayer = keras.layers.Conv2D(128, (3,3), strides = 2,activation='relu',padding='same')(convLayer)\n",
    "    convLayer = keras.layers.Conv2D(128, (3,3), strides = 1,activation='relu',padding='same')(convLayer)\n",
    "    convLayer = keras.layers.BatchNormalization()(convLayer)\n",
    "    # 32,32,128\n",
    "\n",
    "    convLayer = keras.layers.Conv2D(256, (3,3), strides = 2,activation='relu',padding='same')(convLayer)\n",
    "    convLayer = keras.layers.Conv2D(256, (3,3), strides = 1,activation='relu',padding='same')(convLayer)\n",
    "    convLayer = keras.layers.BatchNormalization()(convLayer)\n",
    "    # 16,16,256\n",
    "\n",
    "    convLayer = keras.layers.Conv2D(512, (3,3), strides = 2,activation='relu',padding='same')(convLayer)\n",
    "    convLayer = keras.layers.Conv2D(512, (3,3), strides = 1,activation='relu',padding='same')(convLayer)\n",
    "    convLayer = keras.layers.BatchNormalization()(convLayer)\n",
    "    # 8,8,512\n",
    "\n",
    "    averageLayer = keras.layers.AveragePooling2D(8)(convLayer)\n",
    "    flattenLayer = keras.layers.Flatten()(averageLayer)\n",
    "\n",
    "    denseLayer = keras.layers.Dense(256,activation='relu')(flattenLayer)\n",
    "    denseLayer = keras.layers.Dense(256,activation='relu')(denseLayer)\n",
    "\n",
    "    outputLayer = keras.layers.Dense(1, activation='sigmoid')(denseLayer)\n",
    "\n",
    "    model = keras.models.Model(inputs=[inputLayer],outputs = [outputLayer])\n",
    "    model.compile(loss = keras.losses.binary_crossentropy,optimizer = keras.optimizers.Adam(1e-3))\n",
    "    \n",
    "    return model"
   ]
  },
  {
   "cell_type": "code",
   "execution_count": 16,
   "metadata": {},
   "outputs": [
    {
     "name": "stdout",
     "output_type": "stream",
     "text": [
      "Model: \"model_1\"\n",
      "_________________________________________________________________\n",
      " Layer (type)                Output Shape              Param #   \n",
      "=================================================================\n",
      " input_5 (InputLayer)        [(None, 256, 256, 256)]   0         \n",
      "                                                                 \n",
      " conv2d_40 (Conv2D)          (None, 128, 128, 32)      73760     \n",
      "                                                                 \n",
      " conv2d_41 (Conv2D)          (None, 128, 128, 32)      9248      \n",
      "                                                                 \n",
      " batch_normalization_20 (Bat  (None, 128, 128, 32)     128       \n",
      " chNormalization)                                                \n",
      "                                                                 \n",
      " conv2d_42 (Conv2D)          (None, 64, 64, 64)        18496     \n",
      "                                                                 \n",
      " conv2d_43 (Conv2D)          (None, 64, 64, 64)        36928     \n",
      "                                                                 \n",
      " batch_normalization_21 (Bat  (None, 64, 64, 64)       256       \n",
      " chNormalization)                                                \n",
      "                                                                 \n",
      " conv2d_44 (Conv2D)          (None, 32, 32, 128)       73856     \n",
      "                                                                 \n",
      " conv2d_45 (Conv2D)          (None, 32, 32, 128)       147584    \n",
      "                                                                 \n",
      " batch_normalization_22 (Bat  (None, 32, 32, 128)      512       \n",
      " chNormalization)                                                \n",
      "                                                                 \n",
      " conv2d_46 (Conv2D)          (None, 16, 16, 256)       295168    \n",
      "                                                                 \n",
      " conv2d_47 (Conv2D)          (None, 16, 16, 256)       590080    \n",
      "                                                                 \n",
      " batch_normalization_23 (Bat  (None, 16, 16, 256)      1024      \n",
      " chNormalization)                                                \n",
      "                                                                 \n",
      " conv2d_48 (Conv2D)          (None, 8, 8, 512)         1180160   \n",
      "                                                                 \n",
      " conv2d_49 (Conv2D)          (None, 8, 8, 512)         2359808   \n",
      "                                                                 \n",
      " batch_normalization_24 (Bat  (None, 8, 8, 512)        2048      \n",
      " chNormalization)                                                \n",
      "                                                                 \n",
      " average_pooling2d_4 (Averag  (None, 1, 1, 512)        0         \n",
      " ePooling2D)                                                     \n",
      "                                                                 \n",
      " flatten_1 (Flatten)         (None, 512)               0         \n",
      "                                                                 \n",
      " dense_1 (Dense)             (None, 1)                 513       \n",
      "                                                                 \n",
      "=================================================================\n",
      "Total params: 4,789,569\n",
      "Trainable params: 4,787,585\n",
      "Non-trainable params: 1,984\n",
      "_________________________________________________________________\n"
     ]
    }
   ],
   "source": [
    "model = create_model()\n",
    "model.summary()"
   ]
  },
  {
   "cell_type": "code",
   "execution_count": null,
   "metadata": {},
   "outputs": [],
   "source": []
  },
  {
   "cell_type": "code",
   "execution_count": null,
   "metadata": {},
   "outputs": [],
   "source": []
  },
  {
   "cell_type": "code",
   "execution_count": null,
   "metadata": {},
   "outputs": [],
   "source": []
  },
  {
   "cell_type": "code",
   "execution_count": null,
   "metadata": {},
   "outputs": [],
   "source": []
  }
 ],
 "metadata": {
  "kernelspec": {
   "display_name": "base",
   "language": "python",
   "name": "python3"
  },
  "language_info": {
   "codemirror_mode": {
    "name": "ipython",
    "version": 3
   },
   "file_extension": ".py",
   "mimetype": "text/x-python",
   "name": "python",
   "nbconvert_exporter": "python",
   "pygments_lexer": "ipython3",
   "version": "3.8.8"
  },
  "orig_nbformat": 4,
  "vscode": {
   "interpreter": {
    "hash": "bd11e0ed8ec2bd2c8e5a42fa306014a91d760c2d42e407c00759fcefdf89854d"
   }
  }
 },
 "nbformat": 4,
 "nbformat_minor": 2
}
